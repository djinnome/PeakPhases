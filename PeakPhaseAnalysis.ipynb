{
 "cells": [
  {
   "cell_type": "markdown",
   "metadata": {
    "toc": "true"
   },
   "source": [
    "# Table of Contents\n",
    " <p><div class=\"lev1 toc-item\"><a href=\"#Method-section:\" data-toc-modified-id=\"Method-section:-1\"><span class=\"toc-item-num\">1&nbsp;&nbsp;</span>Method section:</a></div><div class=\"lev2 toc-item\"><a href=\"#Clock-controlled--expression-simulation-based-on-peak-phase\" data-toc-modified-id=\"Clock-controlled--expression-simulation-based-on-peak-phase-11\"><span class=\"toc-item-num\">1.1&nbsp;&nbsp;</span>Clock-controlled  expression simulation based on peak phase</a></div><div class=\"lev2 toc-item\"><a href=\"#Metabolic-overview-posters\" data-toc-modified-id=\"Metabolic-overview-posters-12\"><span class=\"toc-item-num\">1.2&nbsp;&nbsp;</span>Metabolic overview posters</a></div><div class=\"lev3 toc-item\"><a href=\"#Clock-controlled-mRNA-peak-phase\" data-toc-modified-id=\"Clock-controlled-mRNA-peak-phase-121\"><span class=\"toc-item-num\">1.2.1&nbsp;&nbsp;</span>Clock-controlled mRNA peak phase</a></div><div class=\"lev3 toc-item\"><a href=\"#Clock-controlled-protein-peak-phase\" data-toc-modified-id=\"Clock-controlled-protein-peak-phase-122\"><span class=\"toc-item-num\">1.2.2&nbsp;&nbsp;</span>Clock-controlled protein peak phase</a></div><div class=\"lev3 toc-item\"><a href=\"#Number-of-hours-the-protein-peak-lags-behind-the-mRNA-peak\" data-toc-modified-id=\"Number-of-hours-the-protein-peak-lags-behind-the-mRNA-peak-123\"><span class=\"toc-item-num\">1.2.3&nbsp;&nbsp;</span>Number of hours the protein peak lags behind the mRNA peak</a></div><div class=\"lev2 toc-item\"><a href=\"#Metabolic-overview-animation\" data-toc-modified-id=\"Metabolic-overview-animation-13\"><span class=\"toc-item-num\">1.3&nbsp;&nbsp;</span>Metabolic overview animation</a></div><div class=\"lev3 toc-item\"><a href=\"#Clock-controlled-mRNA-expression-simulation\" data-toc-modified-id=\"Clock-controlled-mRNA-expression-simulation-131\"><span class=\"toc-item-num\">1.3.1&nbsp;&nbsp;</span>Clock-controlled mRNA expression simulation</a></div><div class=\"lev3 toc-item\"><a href=\"#Clock-controlled-protein-expression-simulation\" data-toc-modified-id=\"Clock-controlled-protein-expression-simulation-132\"><span class=\"toc-item-num\">1.3.2&nbsp;&nbsp;</span>Clock-controlled protein expression simulation</a></div><div class=\"lev2 toc-item\"><a href=\"#Omics-dashboard\" data-toc-modified-id=\"Omics-dashboard-14\"><span class=\"toc-item-num\">1.4&nbsp;&nbsp;</span>Omics dashboard</a></div><div class=\"lev3 toc-item\"><a href=\"#Alternating-Protein-and-RNA-Oscillations-for-the-Omics-Dashboard-charts\" data-toc-modified-id=\"Alternating-Protein-and-RNA-Oscillations-for-the-Omics-Dashboard-charts-141\"><span class=\"toc-item-num\">1.4.1&nbsp;&nbsp;</span>Alternating Protein and RNA Oscillations for the Omics Dashboard charts</a></div><div class=\"lev3 toc-item\"><a href=\"#Interleaving-Protein-and-RNA-Oscillations-for-the-Omics-Dashboard-charts\" data-toc-modified-id=\"Interleaving-Protein-and-RNA-Oscillations-for-the-Omics-Dashboard-charts-142\"><span class=\"toc-item-num\">1.4.2&nbsp;&nbsp;</span>Interleaving Protein and RNA Oscillations for the Omics Dashboard charts</a></div><div class=\"lev2 toc-item\"><a href=\"#SmartTables\" data-toc-modified-id=\"SmartTables-15\"><span class=\"toc-item-num\">1.5&nbsp;&nbsp;</span>SmartTables</a></div>"
   ]
  },
  {
   "cell_type": "markdown",
   "metadata": {},
   "source": [
    "# Method section: \n",
    "\n",
    "## Clock-controlled  expression simulation based on peak phase\n",
    "\n",
    "\n",
    "Using the peak phase data, we simulated expression of each clock-controlled mRNA and protein over a 24 hour period starting at DD.  Expression is simulated using arbitrary amplitude units that vary between 0 and 2, with 2 being the \"peak phase\" ($\\theta$) according to  the following function:\n",
    " \n",
    "$$f(\\theta; t, T, A, D) = A\\cos\\left(\\frac{2\\pi(t-\\theta)}{T}\\right)+D$$\n",
    "\n",
    " \n",
    "Where the period $T=24$, the amplitude $A$ and the offset $D$ both equal $1$. Time $t$ is simulated every 2 hours from DD at 0h, to 22h. "
   ]
  },
  {
   "cell_type": "code",
   "execution_count": 32,
   "metadata": {
    "ExecuteTime": {
     "end_time": "2017-10-19T22:02:52.087812Z",
     "start_time": "2017-10-19T22:02:52.023448Z"
    }
   },
   "outputs": [
    {
     "data": {
      "text/plain": [
       "['#Protein_lags_RNA_by.tsv#',\n",
       " '.DS_Store',\n",
       " '.git',\n",
       " '.ipynb_checkpoints',\n",
       " 'AmineSyn.png',\n",
       " 'CentralDogmaSubcategories.pdf',\n",
       " 'dashboard.html.pdf',\n",
       " 'genes-of-pwys.tsv',\n",
       " 'genes-of-pwys.tsv~',\n",
       " 'genes-of-rxns.tsv',\n",
       " 'genes-of-rxns.tsv~',\n",
       " 'OmicsDashboard',\n",
       " 'OmicsDashboardView.png',\n",
       " 'oscillations.tar.bz2',\n",
       " 'PathwayCollageColors.tsv',\n",
       " 'PeakPhaseAnalysis.ipynb',\n",
       " 'PeakPhaseColors.txt',\n",
       " 'PeakPhaseColors.txt~',\n",
       " 'Protein_and_RNA_Peak_phases.tsv',\n",
       " 'Protein_and_RNA_Peak_phases.tsv~',\n",
       " 'Protein_lag.pdf',\n",
       " 'Protein_lag_poster.pdf',\n",
       " 'Protein_lags_RNA_by.tsv',\n",
       " 'Protein_lags_RNA_by.tsv~',\n",
       " 'Protein_oscillations.html~',\n",
       " 'Protein_Peak_Phase_for_U01.txt',\n",
       " 'Protein_Peak_Phase_for_U01.txt~',\n",
       " 'ProteinAndRNAOscillations.tsv',\n",
       " 'ProteinAndRNAOscillations12.tsv',\n",
       " 'ProteinAndRNAOscillations24.tsv',\n",
       " 'ProteinLagsRNA.pdf',\n",
       " 'ProteinOscillations.tsv',\n",
       " 'ProteinOscillations.tsv~',\n",
       " 'ProteinOscillations120',\n",
       " 'ProteinOscillations120.tar.bz2',\n",
       " 'ProteinOscillations150',\n",
       " 'ProteinOscillations250',\n",
       " 'ProteinOscillations400',\n",
       " 'ProteinOscillations500',\n",
       " 'ProteinPeakPhase',\n",
       " 'PwyProteinOscillations.tsv',\n",
       " 'PwyRNAOscillations.tsv',\n",
       " 'RNA_Peak_Phase_for_U01.txt',\n",
       " 'RNA_Peak_Phase_for_U01.txt~',\n",
       " 'RNA_Peak_Phases_for_U01.txt~',\n",
       " 'RNAandProteinOscillationDashboard12.pdf',\n",
       " 'RNAandProteinOscillationDashboard24.pdf',\n",
       " 'RNAandProteinOscillations.tar.bz2',\n",
       " 'RNAOscillations.tar.bz2',\n",
       " 'RNAOscillations.tsv',\n",
       " 'RNAOscillations.tsv~',\n",
       " 'RNAOscillations120',\n",
       " 'RNAOscillations120.tar.bz2',\n",
       " 'RNAOscillations150',\n",
       " 'RNAOscillations250',\n",
       " 'RNAOscillations400',\n",
       " 'RNAOscillations500',\n",
       " 'RNAOscillationsPoster.ps',\n",
       " 'RNAPeakPhase',\n",
       " 'RxnProteinOscillations.tsv',\n",
       " 'RxnRNAOscillations.tsv',\n",
       " 'TableColors.tsv',\n",
       " 'WarmToColdColors.txt',\n",
       " 'WarmToCool24.txt']"
      ]
     },
     "execution_count": 32,
     "metadata": {},
     "output_type": "execute_result"
    }
   ],
   "source": [
    "%matplotlib notebook\n",
    "import pandas as pd\n",
    "import os, numpy as np\n",
    "from math import pi\n",
    "from numpy import cos\n",
    "import matplotlib.pyplot as plt\n",
    "\n",
    "class PDF(object):\n",
    "    def __init__(self, pdf, size=(1200,600)):\n",
    "        self.pdf = pdf\n",
    "        self.size = size\n",
    "\n",
    "    def _repr_html_(self):\n",
    "        return '<iframe src={0} width={1[0]} height={1[1]}></iframe>'.format(self.pdf, self.size)\n",
    "\n",
    "    def _repr_latex_(self):\n",
    "        return r'\\includegraphics[width=1.0\\textwidth]{{{0}}}'.format(self.pdf)\n",
    "\n",
    "class Animation(object):\n",
    "    def __init__(self, url, size=(200,200)):\n",
    "        self.url = url\n",
    "        self.size = size\n",
    "\n",
    "    def _repr_html_(self):\n",
    "        return '<iframe src={0} width={1[0]} height={1[1]}></iframe>'.format(self.url, self.size)\n",
    "\n",
    "    def _repr_latex_(self):\n",
    "        return r'\\includegraphics[width=1.0\\textwidth]{{{0}}}'.format(self.url)\n",
    "\n",
    "def create_oscillations_from_peak_phase(peak_phase, out, period=24, interval=2, amplitude=1, offset=1):\n",
    "    t = np.linspace(0,int(period-interval), int(period/interval))\n",
    "    time = ['{}h'.format(i) for i in range(0,int(period),interval)]\n",
    "    oscillate = pd.DataFrame(0, index=time, columns = ['{}.7'.format(i) for i in peak_phase.index])\n",
    "    for gene in peak_phase.index:\n",
    "        theta = peak_phase.loc[gene,'Phase']\n",
    "        oscillate['{}.7'.format(gene)] = amplitude*cos(2*pi*(t - theta)/float(period)) + offset\n",
    "    oscillate.T.to_csv(out,sep='\\t',index_label='$Gene')\n",
    "    return oscillate.T\n",
    "\n",
    "peakdir = os.path.join('.')\n",
    "os.listdir(peakdir)"
   ]
  },
  {
   "cell_type": "markdown",
   "metadata": {},
   "source": [
    "## Metabolic overview posters\n",
    "\n",
    "* Clock-controlled mRNA peak phase\n",
    "* Clock-controlled protein peak phase\n",
    "* Number of hours the protein peak lags behind the mRNA peak\n",
    "* Citation:\n",
    "\n",
    "```\n",
    "S.M. Paley and P.D. Karp.\n",
    "The Pathway Tools Cellular Overview Diagram and Omics Viewer,\n",
    "Nucleic Acids Research 34:3771-8 (2006)\n",
    "```\n"
   ]
  },
  {
   "cell_type": "markdown",
   "metadata": {},
   "source": [
    "### Clock-controlled mRNA peak phase"
   ]
  },
  {
   "cell_type": "code",
   "execution_count": 24,
   "metadata": {
    "ExecuteTime": {
     "end_time": "2017-10-19T19:40:02.544086Z",
     "start_time": "2017-10-19T19:40:02.532566Z"
    }
   },
   "outputs": [
    {
     "data": {
      "text/html": [
       "<iframe src=https://cyc.agilebiofoundry.org/PeakPhases/RNAPeakPhase/RNAPeakPhasePortrait.pdf width=1200 height=600></iframe>"
      ],
      "text/latex": [
       "\\includegraphics[width=1.0\\textwidth]{https://cyc.agilebiofoundry.org/PeakPhases/RNAPeakPhase/RNAPeakPhasePortrait.pdf}"
      ],
      "text/plain": [
       "<__main__.PDF at 0x117af4350>"
      ]
     },
     "execution_count": 24,
     "metadata": {},
     "output_type": "execute_result"
    }
   ],
   "source": [
    "rna_peak = pd.read_table(os.path.join(peakdir,'RNA_Peak_Phase_for_U01.txt'),index_col='ID')\n",
    "rna_peak.index = ['{}.7'.format(i) for i in rna_peak.index]\n",
    "PDF('https://cyc.agilebiofoundry.org/PeakPhases/RNAPeakPhase/RNAPeakPhasePortrait.pdf')"
   ]
  },
  {
   "cell_type": "markdown",
   "metadata": {},
   "source": [
    "### Clock-controlled protein peak phase"
   ]
  },
  {
   "cell_type": "code",
   "execution_count": 23,
   "metadata": {
    "ExecuteTime": {
     "end_time": "2017-10-19T19:39:43.811408Z",
     "start_time": "2017-10-19T19:39:43.800146Z"
    }
   },
   "outputs": [
    {
     "data": {
      "text/html": [
       "<iframe src=https://cyc.agilebiofoundry.org/PeakPhases/ProteinPeakPhase/ProteinPeakPhasePortrait.pdf width=1200 height=600></iframe>"
      ],
      "text/latex": [
       "\\includegraphics[width=1.0\\textwidth]{https://cyc.agilebiofoundry.org/PeakPhases/ProteinPeakPhase/ProteinPeakPhasePortrait.pdf}"
      ],
      "text/plain": [
       "<__main__.PDF at 0x10d2fd2d0>"
      ]
     },
     "execution_count": 23,
     "metadata": {},
     "output_type": "execute_result"
    }
   ],
   "source": [
    "protein_peak = pd.read_table(os.path.join(peakdir,'Protein_Peak_Phase_for_U01.txt'),index_col='ID')\n",
    "protein_peak.index = ['{}.7'.format(i) for i in protein_peak.index]\n",
    "PDF('https://cyc.agilebiofoundry.org/PeakPhases/ProteinPeakPhase/ProteinPeakPhasePortrait.pdf')"
   ]
  },
  {
   "cell_type": "markdown",
   "metadata": {},
   "source": [
    "### Number of hours the protein peak lags behind the mRNA peak"
   ]
  },
  {
   "cell_type": "code",
   "execution_count": 22,
   "metadata": {
    "ExecuteTime": {
     "end_time": "2017-10-19T19:39:28.307844Z",
     "start_time": "2017-10-19T19:39:28.276382Z"
    },
    "scrolled": false
   },
   "outputs": [
    {
     "data": {
      "text/html": [
       "<iframe src=https://cyc.agilebiofoundry.org/PeakPhases/ProteinLagsRNA.pdf width=1200 height=600></iframe>"
      ],
      "text/latex": [
       "\\includegraphics[width=1.0\\textwidth]{https://cyc.agilebiofoundry.org/PeakPhases/ProteinLagsRNA.pdf}"
      ],
      "text/plain": [
       "<__main__.PDF at 0x1176a6c10>"
      ]
     },
     "execution_count": 22,
     "metadata": {},
     "output_type": "execute_result"
    }
   ],
   "source": [
    "prot_and_rna_peak = rna_peak.join(protein_peak, how='outer',lsuffix='_rna', rsuffix='_protein')\n",
    "#prot_and_rna_peak.index = ['{}.7'.format(i) for i in prot_and_rna_peak.index]\n",
    "#display(prot_and_rna_peak)\n",
    "prot_and_rna_peak.to_csv(os.path.join(peakdir, 'Protein_and_RNA_Peak_phases.tsv'),sep='\\t',index_label='Gene')\n",
    "protein_lag = (prot_and_rna_peak['Phase_protein'] - prot_and_rna_peak['Phase_rna']).dropna().apply(lambda x: np.mod(x, 24))\n",
    "protein_lag.to_csv(os.path.join(peakdir,'Protein_lags_RNA_by.tsv'),sep='\\t', index_label='$Gene',header=True)\n",
    "PDF('https://cyc.agilebiofoundry.org/PeakPhases/ProteinLagsRNA.pdf')"
   ]
  },
  {
   "cell_type": "markdown",
   "metadata": {},
   "source": [
    "\n",
    "## Metabolic overview animation\n",
    " * mRNA - Using the `PwyRNAOscillations` dataset, we overlaid a 24-hour time series of clock-controlled mRNA simulated expression onto the cellular overview. \n",
    " * protein - Using the `PwyProteinOscillations` dataset we generated an animation of the proteins using the NeurosporaCyc Omics Viewer \n",
    " * Citation:\n",
    "\n",
    "```\n",
    "Mario Latendresse and Peter D. Karp\n",
    "Web-based metabolic network visualization with a zooming user interface,\n",
    "BMC Bioinformatics 12:176, (2011)\n",
    "```\n",
    "\n",
    "\n",
    "\n"
   ]
  },
  {
   "cell_type": "markdown",
   "metadata": {},
   "source": [
    "### Clock-controlled mRNA expression simulation \n",
    "* `RNAOscillations.tsv` contains expression data for all clock-controlled mRNA. This dataset is used to generate the mRNA Omics Dashboard charts\n",
    "* `PwyRNAOscillations.tsv` contains expression data for only clock-controlled mRNA whose product is an enzyme in a known pathway. This dataset is used to generate the mRNA cellular overview animation."
   ]
  },
  {
   "cell_type": "code",
   "execution_count": 16,
   "metadata": {
    "ExecuteTime": {
     "end_time": "2017-10-19T18:41:45.981258Z",
     "start_time": "2017-10-19T18:41:44.309247Z"
    }
   },
   "outputs": [
    {
     "data": {
      "text/html": [
       "<iframe src=https://cyc.agilebiofoundry.org/PeakPhases/RNAOscillations150/index.html width=1000 height=1000></iframe>"
      ],
      "text/latex": [
       "\\includegraphics[width=1.0\\textwidth]{https://cyc.agilebiofoundry.org/PeakPhases/RNAOscillations150/index.html}"
      ],
      "text/plain": [
       "<__main__.Animation at 0x1174c4e10>"
      ]
     },
     "execution_count": 16,
     "metadata": {},
     "output_type": "execute_result"
    }
   ],
   "source": [
    "rna_peak = pd.read_table(os.path.join(peakdir, 'RNA_Peak_Phase_for_U01.txt'),index_col='ID')\n",
    "rna_oscillations = create_oscillations_from_peak_phase( rna_peak, os.path.join(peakdir,'RNAOscillations.tsv'))\n",
    "pwy_genes = pd.read_table(os.path.join(peakdir,'genes-of-pwys.tsv'))\n",
    "pwy_rna_oscillations = pwy_genes.join(rna_oscillations,on='$Gene', how='inner')\n",
    "pwy_rna_oscillations.to_csv(os.path.join(peakdir,'PwyRNAOscillations.tsv'),sep='\\t',index=False)\n",
    "Animation('https://cyc.agilebiofoundry.org/PeakPhases/RNAOscillations150/index.html',size=(1000,1000))"
   ]
  },
  {
   "cell_type": "markdown",
   "metadata": {},
   "source": [
    "### Clock-controlled protein expression simulation \n",
    "\n",
    "* `ProteinOscillations.tsv` contains expression data for all clock-controlled proteins. This dataset is used to generate the protein Omics Dashboard charts\n",
    "* `PwyProteinOscillations.tsv` contains expression data for only clock-controlled proteins that are enzymes in a known pathway. This dataset is used to generate the protein cellular overview animation."
   ]
  },
  {
   "cell_type": "code",
   "execution_count": 18,
   "metadata": {
    "ExecuteTime": {
     "end_time": "2017-10-19T18:42:14.977458Z",
     "start_time": "2017-10-19T18:42:14.638983Z"
    },
    "scrolled": false
   },
   "outputs": [
    {
     "data": {
      "text/html": [
       "<iframe src=https://cyc.agilebiofoundry.org/PeakPhases/ProteinOscillations150/index.html width=1200 height=600></iframe>"
      ],
      "text/latex": [
       "\\includegraphics[width=1.0\\textwidth]{https://cyc.agilebiofoundry.org/PeakPhases/ProteinOscillations150/index.html}"
      ],
      "text/plain": [
       "<__main__.Animation at 0x10f08b050>"
      ]
     },
     "execution_count": 18,
     "metadata": {},
     "output_type": "execute_result"
    }
   ],
   "source": [
    "protein_peak = pd.read_table(os.path.join(peakdir, 'Protein_Peak_Phase_for_U01.txt'),index_col='ID')\n",
    "protein_oscillations = create_oscillations_from_peak_phase( protein_peak, os.path.join(peakdir,'ProteinOscillations.tsv'))\n",
    "#display(protein_oscillations)\n",
    "pwy_genes = pd.read_table(os.path.join(peakdir,'genes-of-pwys.tsv'))\n",
    "pwy_protein_oscillations = pwy_genes.join(protein_oscillations,on='$Gene', how='inner')\n",
    "pwy_protein_oscillations.to_csv(os.path.join(peakdir,'PwyProteinOscillations.tsv'),sep='\\t',index=False)\n",
    "Animation('https://cyc.agilebiofoundry.org/PeakPhases/ProteinOscillations150/index.html',size=(1200,600))"
   ]
  },
  {
   "cell_type": "markdown",
   "metadata": {},
   "source": [
    "## Omics dashboard\n",
    "\n",
    "For the omics dashboard,\n",
    " * Black color represents mRNA expression\n",
    " * Red color represents protein expression\n",
    " * Each small dot represents the expression of a single gene in the pathway class (Amino Acid synthesis, for example) at a specific time point. \n",
    " * The large dot represents the average amplitude across all genes in that pathway class for that time point.\n",
    " * The line connecting the dots represents the \"spread\" of different expression levels for the genes in the pathway.\n",
    " * `RNAandProteinOscillations12.pdf` displays 12 data points per clock-controlled gene, where simulated mRNA and Protein expression is alternated every 2 hours: `0h_mRNA, 2h_protein, 4h_mRNA, 6h_protein,...,20h_mRNA, 22h_protein`.  \n",
    " * `RNAandProteinOscillations24.pdf` displays  24 data points per gene, where simulated mRNA and Protein expression is interleaved:  `0h_mRNA, 0h_protein, 2h_mRNA, 2h_protein,..., 22h_mRNA, 22h_protein`\n",
    " * The Omics dashboard [[2]](http://academic.oup.com/nar/article/doi/10.1093/nar/gkx910/4508872/The-Omics-Dashboard-for-interactive-exploration-of) can be cited here:\n",
    "```\n",
    "Paley, S., Parker, K., Spaulding, A., Tomb, J.-F., O’Maille, P., & Karp, P. D. (2017). The Omics Dashboard for interactive exploration of gene-expression data. Nucleic Acids Research. https://doi.org/10.1093/nar/gkx910\n",
    "``` \n",
    "\n",
    "\n"
   ]
  },
  {
   "cell_type": "markdown",
   "metadata": {},
   "source": [
    "### Alternating Protein and RNA Oscillations for the Omics Dashboard charts\n",
    "\n",
    "`RNAandProteinOscillations12.tsv` contains 12 data points per clock-controlled gene, where simulated mRNA and Protein expression is alternated every 2 hours: `0h_mRNA, 2h_protein, 4h_mRNA, 6h_protein,...,20h_mRNA, 22h_protein`"
   ]
  },
  {
   "cell_type": "code",
   "execution_count": 21,
   "metadata": {
    "ExecuteTime": {
     "end_time": "2017-10-19T19:39:05.458443Z",
     "start_time": "2017-10-19T19:39:05.446563Z"
    },
    "scrolled": false
   },
   "outputs": [
    {
     "data": {
      "text/html": [
       "<iframe src=https://cyc.agilebiofoundry.org/PeakPhases/RNAandProteinOscillationDashboard12.pdf width=1200 height=600></iframe>"
      ],
      "text/latex": [
       "\\includegraphics[width=1.0\\textwidth]{https://cyc.agilebiofoundry.org/PeakPhases/RNAandProteinOscillationDashboard12.pdf}"
      ],
      "text/plain": [
       "<__main__.PDF at 0x117af9f50>"
      ]
     },
     "execution_count": 21,
     "metadata": {},
     "output_type": "execute_result"
    }
   ],
   "source": [
    "rna_or_protein = {0: 'RNA', 2:'protein'}\n",
    "protein_and_rna_oscillations[['{}h_{}'.format(t, rna_or_protein[t % 4])  \n",
    "        for t in range(0,24,2) ]].\\\n",
    "            to_csv(os.path.join(peakdir,'ProteinAndRNAOscillations12.tsv'),sep='\\t',index_label='$Gene')\n",
    "PDF('https://cyc.agilebiofoundry.org/PeakPhases/RNAandProteinOscillationDashboard12.pdf')"
   ]
  },
  {
   "cell_type": "markdown",
   "metadata": {},
   "source": [
    "### Interleaving Protein and RNA Oscillations for the Omics Dashboard charts\n",
    "\n",
    "`RNAandProteinOscillations24.tsv` contains 24 data points per gene, where simulated mRNA and Protein expression is interleaved:  `0h_mRNA, 0h_protein, 2h_mRNA, 2h_protein,..., 22h_mRNA, 22h_protein`"
   ]
  },
  {
   "cell_type": "code",
   "execution_count": 20,
   "metadata": {
    "ExecuteTime": {
     "end_time": "2017-10-19T19:38:32.596313Z",
     "start_time": "2017-10-19T19:38:32.541976Z"
    }
   },
   "outputs": [
    {
     "data": {
      "text/html": [
       "<iframe src=https://cyc.agilebiofoundry.org/PeakPhases/dashboard.html.pdf width=1200 height=600></iframe>"
      ],
      "text/latex": [
       "\\includegraphics[width=1.0\\textwidth]{https://cyc.agilebiofoundry.org/PeakPhases/dashboard.html.pdf}"
      ],
      "text/plain": [
       "<__main__.PDF at 0x117a93250>"
      ]
     },
     "execution_count": 20,
     "metadata": {},
     "output_type": "execute_result"
    }
   ],
   "source": [
    "protein_and_rna_oscillations = rna_oscillations.join(protein_oscillations,how='inner',lsuffix='_RNA', rsuffix='_protein')\n",
    "protein_and_rna_oscillations[['{}h_{}'.format(t,rna_or_protein)  for t in range(0,24,2) for rna_or_protein in ['RNA','protein']]].to_csv(os.path.join(peakdir,'ProteinAndRNAOscillations24.tsv'),sep='\\t',index_label='$Gene')\n",
    "PDF('https://cyc.agilebiofoundry.org/PeakPhases/dashboard.html.pdf')"
   ]
  },
  {
   "cell_type": "markdown",
   "metadata": {
    "ExecuteTime": {
     "end_time": "2017-10-18T21:50:52.431178Z",
     "start_time": "2017-10-18T21:50:52.255499Z"
    }
   },
   "source": [
    "## SmartTables\n",
    "  * Hours the Protein peak lags behind the RNA peak.\n",
    "  * Clock-controlled mRNA and Protein Peak Phases for Neurospora\n",
    "  * 24-hour simulated expression based on peak phase:\n",
    "      * all clock-controlled mRNA's in *N. crassa*\n",
    "      * all clock-controlled proteins in *N. crassa*\n",
    "      * clock-controlled protein that are enzymes in a known *N. crassa* pathway\n",
    "      * clock-controlled mRNA whose product is an enzyme in a known *N. crassa* pathway\n",
    "      * `RNAandProteinOscillations12` contains 12 data points per clock-controlled gene, where simulated mRNA and Protein expression is alternated every 2 hours: `0h_mRNA, 2h_protein, 4h_mRNA, 6h_protein,...,20h_mRNA, 22h_protein`\n",
    "      * `RNAandProteinOscillations24` contains 24 data points per gene, where simulated mRNA and Protein expression is interleaved:  `0h_mRNA, 0h_protein, 2h_mRNA, 2h_protein,..., 22h_mRNA, 22h_protein`\n",
    "  * Citation:\n",
    "\n",
    "```\n",
    "[PTools13] Mike Travers., S.M Paley., J.Shrager., T.A Holland., and Peter Karp\n",
    "Groups:knowledge spreadsheets for symbolic biocomputing\n",
    "Database, doi:10.1093/database/bat061 (2013)```\n",
    "\n",
    "\n",
    " "
   ]
  }
 ],
 "metadata": {
  "_draft": {
   "nbviewer_url": "https://gist.github.com/020b1d798eefca72e6172dd61ef10582"
  },
  "gist": {
   "data": {
    "description": "PeakPhaseAnalysis",
    "public": true
   },
   "id": "020b1d798eefca72e6172dd61ef10582"
  },
  "kernelspec": {
   "display_name": "Python 2",
   "language": "python",
   "name": "python2"
  },
  "language_info": {
   "codemirror_mode": {
    "name": "ipython",
    "version": 2
   },
   "file_extension": ".py",
   "mimetype": "text/x-python",
   "name": "python",
   "nbconvert_exporter": "python",
   "pygments_lexer": "ipython2",
   "version": "2.7.13"
  },
  "latex_envs": {
   "bibliofile": "biblio.bib",
   "cite_by": "apalike",
   "current_citInitial": 1,
   "eqLabelWithNumbers": true,
   "eqNumInitial": 0
  },
  "toc": {
   "colors": {
    "hover_highlight": "#DAA520",
    "navigate_num": "#000000",
    "navigate_text": "#333333",
    "running_highlight": "#FF0000",
    "selected_highlight": "#FFD700",
    "sidebar_border": "#EEEEEE",
    "wrapper_background": "#FFFFFF"
   },
   "moveMenuLeft": true,
   "nav_menu": {
    "height": "174px",
    "width": "252px"
   },
   "navigate_menu": true,
   "number_sections": true,
   "sideBar": true,
   "threshold": 4,
   "toc_cell": true,
   "toc_number_sections": true,
   "toc_section_display": "block",
   "toc_threshold": 6,
   "toc_window_display": true,
   "widenNotebook": false
  },
  "varInspector": {
   "cols": {
    "lenName": 16,
    "lenType": 16,
    "lenVar": 40
   },
   "kernels_config": {
    "python": {
     "delete_cmd_postfix": "",
     "delete_cmd_prefix": "del ",
     "library": "var_list.py",
     "varRefreshCmd": "print(var_dic_list())"
    },
    "r": {
     "delete_cmd_postfix": ") ",
     "delete_cmd_prefix": "rm(",
     "library": "var_list.r",
     "varRefreshCmd": "cat(var_dic_list()) "
    }
   },
   "types_to_exclude": [
    "module",
    "function",
    "builtin_function_or_method",
    "instance",
    "_Feature"
   ],
   "window_display": false
  }
 },
 "nbformat": 4,
 "nbformat_minor": 2
}
